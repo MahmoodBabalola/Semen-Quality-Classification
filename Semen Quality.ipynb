{
  "nbformat": 4,
  "nbformat_minor": 0,
  "metadata": {
    "colab": {
      "provenance": []
    },
    "kernelspec": {
      "name": "python3",
      "display_name": "Python 3"
    },
    "language_info": {
      "name": "python"
    }
  },
  "cells": [
    {
      "cell_type": "code",
      "execution_count": 2,
      "metadata": {
        "id": "UA9rMRDEcpEk"
      },
      "outputs": [],
      "source": [
        "import pandas as pd\n",
        "import numpy as np\n",
        "import matplotlib.pyplot as plt\n",
        "import seaborn as sns\n",
        "from sklearn.preprocessing import StandardScaler\n",
        "from scipy.stats import chi2_contingency\n",
        "from sklearn.feature_selection import chi2\n",
        "from sklearn.preprocessing import OneHotEncoder, MinMaxScaler\n",
        "from sklearn.ensemble import RandomForestClassifier\n",
        "\n",
        "\n"
      ]
    },
    {
      "cell_type": "code",
      "source": [
        "!pip install Boruta"
      ],
      "metadata": {
        "colab": {
          "base_uri": "https://localhost:8080/"
        },
        "id": "LpqIP3ZMBo-Y",
        "outputId": "6338f861-d0f2-4ac0-b035-aa7a6f9a6fa7"
      },
      "execution_count": 3,
      "outputs": [
        {
          "output_type": "stream",
          "name": "stdout",
          "text": [
            "Looking in indexes: https://pypi.org/simple, https://us-python.pkg.dev/colab-wheels/public/simple/\n",
            "Requirement already satisfied: Boruta in /usr/local/lib/python3.8/dist-packages (0.3)\n",
            "Requirement already satisfied: scikit-learn>=0.17.1 in /usr/local/lib/python3.8/dist-packages (from Boruta) (1.0.2)\n",
            "Requirement already satisfied: numpy>=1.10.4 in /usr/local/lib/python3.8/dist-packages (from Boruta) (1.21.6)\n",
            "Requirement already satisfied: scipy>=0.17.0 in /usr/local/lib/python3.8/dist-packages (from Boruta) (1.7.3)\n",
            "Requirement already satisfied: threadpoolctl>=2.0.0 in /usr/local/lib/python3.8/dist-packages (from scikit-learn>=0.17.1->Boruta) (3.1.0)\n",
            "Requirement already satisfied: joblib>=0.11 in /usr/local/lib/python3.8/dist-packages (from scikit-learn>=0.17.1->Boruta) (1.2.0)\n"
          ]
        }
      ]
    },
    {
      "cell_type": "code",
      "source": [
        "from boruta import BorutaPy"
      ],
      "metadata": {
        "id": "mfr-N5XRB1Dt"
      },
      "execution_count": 4,
      "outputs": []
    },
    {
      "cell_type": "code",
      "source": [
        "df = pd.read_csv(\"/content/drive/MyDrive/fertility.csv\")"
      ],
      "metadata": {
        "id": "36craydZKxdM"
      },
      "execution_count": 5,
      "outputs": []
    },
    {
      "cell_type": "code",
      "source": [
        "df.head()"
      ],
      "metadata": {
        "id": "poMZbjpPKxZn",
        "colab": {
          "base_uri": "https://localhost:8080/",
          "height": 268
        },
        "outputId": "cd7a0a91-c26e-47bc-8825-00da69e58cf2"
      },
      "execution_count": 6,
      "outputs": [
        {
          "output_type": "execute_result",
          "data": {
            "text/plain": [
              "   Season  Age Childish diseases Accident or serious trauma  \\\n",
              "0  spring   30                no                        yes   \n",
              "1  spring   35               yes                         no   \n",
              "2  spring   27               yes                         no   \n",
              "3  spring   32                no                        yes   \n",
              "4  spring   30               yes                        yes   \n",
              "\n",
              "  Surgical intervention High fevers in the last year  \\\n",
              "0                   yes       more than 3 months ago   \n",
              "1                   yes       more than 3 months ago   \n",
              "2                    no       more than 3 months ago   \n",
              "3                   yes       more than 3 months ago   \n",
              "4                    no       more than 3 months ago   \n",
              "\n",
              "  Frequency of alcohol consumption Smoking habit  \\\n",
              "0                      once a week    occasional   \n",
              "1                      once a week         daily   \n",
              "2             hardly ever or never         never   \n",
              "3             hardly ever or never         never   \n",
              "4                      once a week         never   \n",
              "\n",
              "   Number of hours spent sitting per day Diagnosis  \n",
              "0                                     16    Normal  \n",
              "1                                      6   Altered  \n",
              "2                                      9    Normal  \n",
              "3                                      7    Normal  \n",
              "4                                      9   Altered  "
            ],
            "text/html": [
              "\n",
              "  <div id=\"df-91fee67e-ac3d-4513-979d-e544767502c0\">\n",
              "    <div class=\"colab-df-container\">\n",
              "      <div>\n",
              "<style scoped>\n",
              "    .dataframe tbody tr th:only-of-type {\n",
              "        vertical-align: middle;\n",
              "    }\n",
              "\n",
              "    .dataframe tbody tr th {\n",
              "        vertical-align: top;\n",
              "    }\n",
              "\n",
              "    .dataframe thead th {\n",
              "        text-align: right;\n",
              "    }\n",
              "</style>\n",
              "<table border=\"1\" class=\"dataframe\">\n",
              "  <thead>\n",
              "    <tr style=\"text-align: right;\">\n",
              "      <th></th>\n",
              "      <th>Season</th>\n",
              "      <th>Age</th>\n",
              "      <th>Childish diseases</th>\n",
              "      <th>Accident or serious trauma</th>\n",
              "      <th>Surgical intervention</th>\n",
              "      <th>High fevers in the last year</th>\n",
              "      <th>Frequency of alcohol consumption</th>\n",
              "      <th>Smoking habit</th>\n",
              "      <th>Number of hours spent sitting per day</th>\n",
              "      <th>Diagnosis</th>\n",
              "    </tr>\n",
              "  </thead>\n",
              "  <tbody>\n",
              "    <tr>\n",
              "      <th>0</th>\n",
              "      <td>spring</td>\n",
              "      <td>30</td>\n",
              "      <td>no</td>\n",
              "      <td>yes</td>\n",
              "      <td>yes</td>\n",
              "      <td>more than 3 months ago</td>\n",
              "      <td>once a week</td>\n",
              "      <td>occasional</td>\n",
              "      <td>16</td>\n",
              "      <td>Normal</td>\n",
              "    </tr>\n",
              "    <tr>\n",
              "      <th>1</th>\n",
              "      <td>spring</td>\n",
              "      <td>35</td>\n",
              "      <td>yes</td>\n",
              "      <td>no</td>\n",
              "      <td>yes</td>\n",
              "      <td>more than 3 months ago</td>\n",
              "      <td>once a week</td>\n",
              "      <td>daily</td>\n",
              "      <td>6</td>\n",
              "      <td>Altered</td>\n",
              "    </tr>\n",
              "    <tr>\n",
              "      <th>2</th>\n",
              "      <td>spring</td>\n",
              "      <td>27</td>\n",
              "      <td>yes</td>\n",
              "      <td>no</td>\n",
              "      <td>no</td>\n",
              "      <td>more than 3 months ago</td>\n",
              "      <td>hardly ever or never</td>\n",
              "      <td>never</td>\n",
              "      <td>9</td>\n",
              "      <td>Normal</td>\n",
              "    </tr>\n",
              "    <tr>\n",
              "      <th>3</th>\n",
              "      <td>spring</td>\n",
              "      <td>32</td>\n",
              "      <td>no</td>\n",
              "      <td>yes</td>\n",
              "      <td>yes</td>\n",
              "      <td>more than 3 months ago</td>\n",
              "      <td>hardly ever or never</td>\n",
              "      <td>never</td>\n",
              "      <td>7</td>\n",
              "      <td>Normal</td>\n",
              "    </tr>\n",
              "    <tr>\n",
              "      <th>4</th>\n",
              "      <td>spring</td>\n",
              "      <td>30</td>\n",
              "      <td>yes</td>\n",
              "      <td>yes</td>\n",
              "      <td>no</td>\n",
              "      <td>more than 3 months ago</td>\n",
              "      <td>once a week</td>\n",
              "      <td>never</td>\n",
              "      <td>9</td>\n",
              "      <td>Altered</td>\n",
              "    </tr>\n",
              "  </tbody>\n",
              "</table>\n",
              "</div>\n",
              "      <button class=\"colab-df-convert\" onclick=\"convertToInteractive('df-91fee67e-ac3d-4513-979d-e544767502c0')\"\n",
              "              title=\"Convert this dataframe to an interactive table.\"\n",
              "              style=\"display:none;\">\n",
              "        \n",
              "  <svg xmlns=\"http://www.w3.org/2000/svg\" height=\"24px\"viewBox=\"0 0 24 24\"\n",
              "       width=\"24px\">\n",
              "    <path d=\"M0 0h24v24H0V0z\" fill=\"none\"/>\n",
              "    <path d=\"M18.56 5.44l.94 2.06.94-2.06 2.06-.94-2.06-.94-.94-2.06-.94 2.06-2.06.94zm-11 1L8.5 8.5l.94-2.06 2.06-.94-2.06-.94L8.5 2.5l-.94 2.06-2.06.94zm10 10l.94 2.06.94-2.06 2.06-.94-2.06-.94-.94-2.06-.94 2.06-2.06.94z\"/><path d=\"M17.41 7.96l-1.37-1.37c-.4-.4-.92-.59-1.43-.59-.52 0-1.04.2-1.43.59L10.3 9.45l-7.72 7.72c-.78.78-.78 2.05 0 2.83L4 21.41c.39.39.9.59 1.41.59.51 0 1.02-.2 1.41-.59l7.78-7.78 2.81-2.81c.8-.78.8-2.07 0-2.86zM5.41 20L4 18.59l7.72-7.72 1.47 1.35L5.41 20z\"/>\n",
              "  </svg>\n",
              "      </button>\n",
              "      \n",
              "  <style>\n",
              "    .colab-df-container {\n",
              "      display:flex;\n",
              "      flex-wrap:wrap;\n",
              "      gap: 12px;\n",
              "    }\n",
              "\n",
              "    .colab-df-convert {\n",
              "      background-color: #E8F0FE;\n",
              "      border: none;\n",
              "      border-radius: 50%;\n",
              "      cursor: pointer;\n",
              "      display: none;\n",
              "      fill: #1967D2;\n",
              "      height: 32px;\n",
              "      padding: 0 0 0 0;\n",
              "      width: 32px;\n",
              "    }\n",
              "\n",
              "    .colab-df-convert:hover {\n",
              "      background-color: #E2EBFA;\n",
              "      box-shadow: 0px 1px 2px rgba(60, 64, 67, 0.3), 0px 1px 3px 1px rgba(60, 64, 67, 0.15);\n",
              "      fill: #174EA6;\n",
              "    }\n",
              "\n",
              "    [theme=dark] .colab-df-convert {\n",
              "      background-color: #3B4455;\n",
              "      fill: #D2E3FC;\n",
              "    }\n",
              "\n",
              "    [theme=dark] .colab-df-convert:hover {\n",
              "      background-color: #434B5C;\n",
              "      box-shadow: 0px 1px 3px 1px rgba(0, 0, 0, 0.15);\n",
              "      filter: drop-shadow(0px 1px 2px rgba(0, 0, 0, 0.3));\n",
              "      fill: #FFFFFF;\n",
              "    }\n",
              "  </style>\n",
              "\n",
              "      <script>\n",
              "        const buttonEl =\n",
              "          document.querySelector('#df-91fee67e-ac3d-4513-979d-e544767502c0 button.colab-df-convert');\n",
              "        buttonEl.style.display =\n",
              "          google.colab.kernel.accessAllowed ? 'block' : 'none';\n",
              "\n",
              "        async function convertToInteractive(key) {\n",
              "          const element = document.querySelector('#df-91fee67e-ac3d-4513-979d-e544767502c0');\n",
              "          const dataTable =\n",
              "            await google.colab.kernel.invokeFunction('convertToInteractive',\n",
              "                                                     [key], {});\n",
              "          if (!dataTable) return;\n",
              "\n",
              "          const docLinkHtml = 'Like what you see? Visit the ' +\n",
              "            '<a target=\"_blank\" href=https://colab.research.google.com/notebooks/data_table.ipynb>data table notebook</a>'\n",
              "            + ' to learn more about interactive tables.';\n",
              "          element.innerHTML = '';\n",
              "          dataTable['output_type'] = 'display_data';\n",
              "          await google.colab.output.renderOutput(dataTable, element);\n",
              "          const docLink = document.createElement('div');\n",
              "          docLink.innerHTML = docLinkHtml;\n",
              "          element.appendChild(docLink);\n",
              "        }\n",
              "      </script>\n",
              "    </div>\n",
              "  </div>\n",
              "  "
            ]
          },
          "metadata": {},
          "execution_count": 6
        }
      ]
    },
    {
      "cell_type": "markdown",
      "source": [
        "**EDA**"
      ],
      "metadata": {
        "id": "jBRj_nMiUKlE"
      }
    },
    {
      "cell_type": "code",
      "source": [
        "print(df.info())"
      ],
      "metadata": {
        "id": "O30o6H-jKxV8",
        "colab": {
          "base_uri": "https://localhost:8080/"
        },
        "outputId": "3dd8ad97-6515-439c-b85e-4a4754e53254"
      },
      "execution_count": null,
      "outputs": [
        {
          "output_type": "stream",
          "name": "stdout",
          "text": [
            "<class 'pandas.core.frame.DataFrame'>\n",
            "RangeIndex: 100 entries, 0 to 99\n",
            "Data columns (total 10 columns):\n",
            " #   Column                                 Non-Null Count  Dtype \n",
            "---  ------                                 --------------  ----- \n",
            " 0   Season                                 100 non-null    object\n",
            " 1   Age                                    100 non-null    int64 \n",
            " 2   Childish diseases                      100 non-null    object\n",
            " 3   Accident or serious trauma             100 non-null    object\n",
            " 4   Surgical intervention                  100 non-null    object\n",
            " 5   High fevers in the last year           100 non-null    object\n",
            " 6   Frequency of alcohol consumption       100 non-null    object\n",
            " 7   Smoking habit                          100 non-null    object\n",
            " 8   Number of hours spent sitting per day  100 non-null    int64 \n",
            " 9   Diagnosis                              100 non-null    object\n",
            "dtypes: int64(2), object(8)\n",
            "memory usage: 7.9+ KB\n",
            "None\n"
          ]
        }
      ]
    },
    {
      "cell_type": "code",
      "source": [
        "#check for missing value\n",
        "print(df.isnull().sum())"
      ],
      "metadata": {
        "colab": {
          "base_uri": "https://localhost:8080/"
        },
        "id": "aDsoZLNc6CLa",
        "outputId": "2bfbc2c1-04c1-44b6-f184-6f1a37c08932"
      },
      "execution_count": null,
      "outputs": [
        {
          "output_type": "stream",
          "name": "stdout",
          "text": [
            "Season                                   0\n",
            "Age                                      0\n",
            "Childish diseases                        0\n",
            "Accident or serious trauma               0\n",
            "Surgical intervention                    0\n",
            "High fevers in the last year             0\n",
            "Frequency of alcohol consumption         0\n",
            "Smoking habit                            0\n",
            "Number of hours spent sitting per day    0\n",
            "Diagnosis                                0\n",
            "dtype: int64\n"
          ]
        }
      ]
    },
    {
      "cell_type": "markdown",
      "source": [
        "Explore numerical data"
      ],
      "metadata": {
        "id": "rOyKgo2WLI46"
      }
    },
    {
      "cell_type": "code",
      "source": [
        "# explore numerical data\n",
        "print(df.describe())"
      ],
      "metadata": {
        "colab": {
          "base_uri": "https://localhost:8080/"
        },
        "id": "ifb8E3N_6CHF",
        "outputId": "725368a2-4f2b-43da-e39b-b7e5dd62f248"
      },
      "execution_count": null,
      "outputs": [
        {
          "output_type": "stream",
          "name": "stdout",
          "text": [
            "             Age  Number of hours spent sitting per day\n",
            "count  99.000000                              99.000000\n",
            "mean   30.111111                               7.454545\n",
            "std     2.258268                               3.317464\n",
            "min    27.000000                               1.000000\n",
            "25%    28.000000                               5.000000\n",
            "50%    30.000000                               7.000000\n",
            "75%    32.000000                               9.000000\n",
            "max    36.000000                              18.000000\n"
          ]
        }
      ]
    },
    {
      "cell_type": "code",
      "source": [
        "sns.histplot(data=df, x='Age')"
      ],
      "metadata": {
        "colab": {
          "base_uri": "https://localhost:8080/",
          "height": 296
        },
        "id": "wn5W7ZDOLMep",
        "outputId": "5cba2c30-00d2-49f3-c07e-bc75391f54e8"
      },
      "execution_count": null,
      "outputs": [
        {
          "output_type": "execute_result",
          "data": {
            "text/plain": [
              "<matplotlib.axes._subplots.AxesSubplot at 0x7f69c335f310>"
            ]
          },
          "metadata": {},
          "execution_count": 37
        },
        {
          "output_type": "display_data",
          "data": {
            "text/plain": [
              "<Figure size 432x288 with 1 Axes>"
            ],
            "image/png": "[encoded data removed]"
          },
          "metadata": {
            "needs_background": "light"
          }
        }
      ]
    },
    {
      "cell_type": "code",
      "source": [
        "sns.histplot(data=df, x='Number of hours spent sitting per day')"
      ],
      "metadata": {
        "colab": {
          "base_uri": "https://localhost:8080/",
          "height": 296
        },
        "id": "P3Uy1PF8IzzZ",
        "outputId": "d0b4d943-990d-4f88-d91a-d1b0652a5da1"
      },
      "execution_count": null,
      "outputs": [
        {
          "output_type": "execute_result",
          "data": {
            "text/plain": [
              "<matplotlib.axes._subplots.AxesSubplot at 0x7f69c3567f40>"
            ]
          },
          "metadata": {},
          "execution_count": 32
        },
        {
          "output_type": "display_data",
          "data": {
            "text/plain": [
              "<Figure size 432x288 with 1 Axes>"
            ],
            "image/png": "[encoded data removed]"
          },
          "metadata": {
            "needs_background": "light"
          }
        }
      ]
    },
    {
      "cell_type": "code",
      "source": [
        "# from the plot above we can see there is an outlier in column \"Number of hours spent sitting per day\"  \n",
        "# we will remove this because it is just one row\n",
        "\n",
        "df = df[df['Number of hours spent sitting per day'] != 342]\n"
      ],
      "metadata": {
        "id": "8u8mFdfTI0_X"
      },
      "execution_count": null,
      "outputs": []
    },
    {
      "cell_type": "code",
      "source": [
        "#Visualizing the column again\n",
        "\n",
        "sns.histplot(data=df, x='Number of hours spent sitting per day')"
      ],
      "metadata": {
        "colab": {
          "base_uri": "https://localhost:8080/",
          "height": 296
        },
        "id": "v6-yjCDcK7ET",
        "outputId": "e8c67328-fcf7-4919-de5f-a8b3419c4c28"
      },
      "execution_count": null,
      "outputs": [
        {
          "output_type": "execute_result",
          "data": {
            "text/plain": [
              "<matplotlib.axes._subplots.AxesSubplot at 0x7f69c32b7ac0>"
            ]
          },
          "metadata": {},
          "execution_count": 38
        },
        {
          "output_type": "display_data",
          "data": {
            "text/plain": [
              "<Figure size 432x288 with 1 Axes>"
            ],
            "image/png": "[encoded data removed]"
          },
          "metadata": {
            "needs_background": "light"
          }
        }
      ]
    },
    {
      "cell_type": "markdown",
      "source": [
        "Eploring the Categorical variable"
      ],
      "metadata": {
        "id": "F7S020jyNXmm"
      }
    },
    {
      "cell_type": "code",
      "source": [
        "# Create a list of the column names\n",
        "columns = ['Season','Childish diseases', 'Accident or serious trauma', 'Surgical intervention', 'High fevers in the last year', 'Frequency of alcohol consumption', 'Smoking habit', 'Diagnosis']\n",
        "\n",
        "# count values in each column\n",
        "for col in columns:\n",
        "    print(f'Number of unique values in {col}: {df[col].nunique()}')\n",
        "    print(f'Value counts in {col}:')\n",
        "    print(df[col].value_counts(), end='\\n\\n')"
      ],
      "metadata": {
        "colab": {
          "base_uri": "https://localhost:8080/"
        },
        "id": "OlN23JbYRO2s",
        "outputId": "16d854ac-353c-4e64-b1ae-45f290ab1dd7"
      },
      "execution_count": null,
      "outputs": [
        {
          "output_type": "stream",
          "name": "stdout",
          "text": [
            "Number of unique values in Season: 4\n",
            "Value counts in Season:\n",
            "spring    37\n",
            "fall      31\n",
            "winter    28\n",
            "summer     4\n",
            "Name: Season, dtype: int64\n",
            "\n",
            "Number of unique values in Childish diseases: 2\n",
            "Value counts in Childish diseases:\n",
            "yes    87\n",
            "no     13\n",
            "Name: Childish diseases, dtype: int64\n",
            "\n",
            "Number of unique values in Accident or serious trauma: 2\n",
            "Value counts in Accident or serious trauma:\n",
            "no     56\n",
            "yes    44\n",
            "Name: Accident or serious trauma, dtype: int64\n",
            "\n",
            "Number of unique values in Surgical intervention: 2\n",
            "Value counts in Surgical intervention:\n",
            "yes    51\n",
            "no     49\n",
            "Name: Surgical intervention, dtype: int64\n",
            "\n",
            "Number of unique values in High fevers in the last year: 3\n",
            "Value counts in High fevers in the last year:\n",
            "more than 3 months ago    63\n",
            "no                        28\n",
            "less than 3 months ago     9\n",
            "Name: High fevers in the last year, dtype: int64\n",
            "\n",
            "Number of unique values in Frequency of alcohol consumption: 5\n",
            "Value counts in Frequency of alcohol consumption:\n",
            "hardly ever or never    40\n",
            "once a week             39\n",
            "several times a week    19\n",
            "several times a day      1\n",
            "every day                1\n",
            "Name: Frequency of alcohol consumption, dtype: int64\n",
            "\n",
            "Number of unique values in Smoking habit: 3\n",
            "Value counts in Smoking habit:\n",
            "never         56\n",
            "occasional    23\n",
            "daily         21\n",
            "Name: Smoking habit, dtype: int64\n",
            "\n",
            "Number of unique values in Diagnosis: 2\n",
            "Value counts in Diagnosis:\n",
            "Normal     88\n",
            "Altered    12\n",
            "Name: Diagnosis, dtype: int64\n",
            "\n"
          ]
        }
      ]
    },
    {
      "cell_type": "markdown",
      "source": [
        "Plot all the categorical variable in the dataset"
      ],
      "metadata": {
        "id": "wgcl_Jvs4Rye"
      }
    },
    {
      "cell_type": "code",
      "source": [
        "# Create a list of the column names\n",
        "columns = ['Childish diseases', 'Accident or serious trauma', 'Surgical intervention', 'High fevers in the last year', 'Frequency of alcohol consumption', 'Smoking habit', 'Number of hours spent sitting per day', 'Diagnosis']\n",
        "\n",
        "# Loop through each column name\n",
        "for col in columns:\n",
        "    # Create a barplot for the column\n",
        "    sns.catplot(x=col, kind=\"count\", data=df)\n",
        "    plt.title(col)\n",
        "    # Show the plot\n",
        "    plt.show()"
      ],
      "metadata": {
        "id": "qTQk-bqj0sI7"
      },
      "execution_count": null,
      "outputs": []
    },
    {
      "cell_type": "markdown",
      "source": [
        "Plot the Dependent variable"
      ],
      "metadata": {
        "id": "j9X4g0awRteS"
      }
    },
    {
      "cell_type": "code",
      "source": [
        "plt.figure(figsize=(10,10),dpi = 3000)\n",
        "before = sns.catplot(data=df, x=\"Diagnosis\", kind=\"count\", palette=\"ch:.25\")\n",
        "#before_fig = before.get_figure()\n",
        "plt.title('Before SMOTE')\n",
        "before.savefig('before')"
      ],
      "metadata": {
        "colab": {
          "base_uri": "https://localhost:8080/",
          "height": 402
        },
        "id": "UxU6-fNoWuGM",
        "outputId": "db79be9d-847b-43be-e05b-a1a05d66b42b"
      },
      "execution_count": 7,
      "outputs": [
        {
          "output_type": "display_data",
          "data": {
            "text/plain": [
              "<Figure size 30000x30000 with 0 Axes>"
            ]
          },
          "metadata": {}
        },
        {
          "output_type": "display_data",
          "data": {
            "text/plain": [
              "<Figure size 360x360 with 1 Axes>"
            ],
            "image/png": "[encoded data removed]"
          },
          "metadata": {
            "needs_background": "light"
          }
        }
      ]
    },
    {
      "cell_type": "markdown",
      "source": [
        "Encode the data for chi square"
      ],
      "metadata": {
        "id": "m3z-KIdeOXvP"
      }
    },
    {
      "cell_type": "code",
      "source": [
        "list(df.columns)"
      ],
      "metadata": {
        "id": "SCkdAoz9fNvO"
      },
      "execution_count": null,
      "outputs": []
    },
    {
      "cell_type": "code",
      "source": [
        "df.head()"
      ],
      "metadata": {
        "id": "36kKMNmDsXCV"
      },
      "execution_count": null,
      "outputs": []
    },
    {
      "cell_type": "code",
      "source": [
        "# Define a function that takes a value and returns the encoded value\n",
        "def encode_variable(value):\n",
        "  if value == \"winter\":\n",
        "    return -1\n",
        "  elif value == \"spring\":\n",
        "    return -0.33\n",
        "  elif value == \"summer\":\n",
        "    return 0.33\n",
        "  elif value == \"fall\":\n",
        "    return 1\n",
        "  # Repeat the same for variables with yes and No\n",
        "  elif value == \"yes\":\n",
        "    return 1\n",
        "  elif value == \"no\":\n",
        "    return 0\n",
        " \n"
      ],
      "metadata": {
        "id": "-3yNWFGNcMCZ"
      },
      "execution_count": 9,
      "outputs": []
    },
    {
      "cell_type": "code",
      "source": [
        "\n",
        " def encode_variable2(value):\n",
        "  # For the 'Smoking habit' variable:\n",
        "  if value == \"never\":\n",
        "    return -1\n",
        "  elif value == \"occasional\":\n",
        "    return 0\n",
        "  elif value == \"daily\":\n",
        "    return 1"
      ],
      "metadata": {
        "id": "UH2cdpmdsPFI"
      },
      "execution_count": 10,
      "outputs": []
    },
    {
      "cell_type": "code",
      "source": [
        "\n",
        "def encode_variable3(value):\n",
        "  # For the 'High fevers in the last year' variable:\n",
        "  if value == \"less than 3 months ago\":\n",
        "    return -1\n",
        "  elif value == \"more than 3 months ago\":\n",
        "    return 0\n",
        "  elif value == \"no\":\n",
        "    return 1"
      ],
      "metadata": {
        "id": "uHalH5-SvlWP"
      },
      "execution_count": 11,
      "outputs": []
    },
    {
      "cell_type": "code",
      "source": [
        "# Apply the encoding function to each column in the DataFrame\n",
        "df[\"Season\"] = df[\"Season\"].map(encode_variable)\n",
        "df[\"Childish diseases\"] = df[\"Childish diseases\"].map(encode_variable)\n",
        "df[\"Accident or serious trauma\"] = df[\"Accident or serious trauma\"].map(encode_variable)\n",
        "df[\"Surgical intervention\"] = df[\"Surgical intervention\"].map(encode_variable)\n",
        "df[\"Smoking habit\"] = df[\"Smoking habit\"].map(encode_variable2)\n",
        "df[\"High fevers in the last year\"] = df[\"High fevers in the last year\"].map(encode_variable3)\n"
      ],
      "metadata": {
        "id": "Tx6ziRq9cHQj"
      },
      "execution_count": 12,
      "outputs": []
    },
    {
      "cell_type": "code",
      "source": [
        " def encode_variable3(value):\n",
        "  # For the 'Smoking habit' variable:\n",
        "  if value == \"less than 3 months ago\":\n",
        "    return -1\n",
        "  elif value == \"more than 3 months ago\":\n",
        "    return 0\n",
        "  elif value == \"no\":\n",
        "    return 1"
      ],
      "metadata": {
        "id": "x31oPDyhvMny"
      },
      "execution_count": 13,
      "outputs": []
    },
    {
      "cell_type": "code",
      "source": [
        "#onehot encode \"Frequency of alcohol consumption\" because they have more than 3 categories\n",
        "df = pd.get_dummies(df, columns=['Frequency of alcohol consumption',])"
      ],
      "metadata": {
        "id": "t7smjof4oqRF"
      },
      "execution_count": 14,
      "outputs": []
    },
    {
      "cell_type": "code",
      "source": [
        "# normalize the numerical variables 'Age' and 'Number of hours spent sitting per day'\n",
        "df['Age'] = (df['Age'] - df['Age'].mean()) / df['Age'].std()\n",
        "\n",
        "df['Number of hours spent sitting per day'] = (df['Number of hours spent sitting per day'] - df['Number of hours spent sitting per day'].mean()) / df['Number of hours spent sitting per day'].std()"
      ],
      "metadata": {
        "id": "qorEntnlfVjs"
      },
      "execution_count": 15,
      "outputs": []
    },
    {
      "cell_type": "code",
      "source": [
        "df.head()"
      ],
      "metadata": {
        "id": "Ueu6AYtjcG_r"
      },
      "execution_count": null,
      "outputs": []
    },
    {
      "cell_type": "code",
      "source": [],
      "metadata": {
        "id": "zHFAuuuowSLl"
      },
      "execution_count": null,
      "outputs": []
    },
    {
      "cell_type": "markdown",
      "source": [
        "Calculate chi-square between the categorical variables and output the ones with p-value lesser than 0.05\n",
        "\n",
        "\n",
        "H0: the two variables are not associated\n",
        "\n",
        "\n",
        "\n",
        "H1: the two variable are associated\n",
        "\n",
        "\n",
        "\n",
        "P > 0.05 is the probability that the null hypothesis is true"
      ],
      "metadata": {
        "id": "zOI_K_IaFjBg"
      }
    },
    {
      "cell_type": "code",
      "source": [
        "# Select the categorical features and the target variable\n",
        "cat_features = ['Season','Childish diseases', 'Accident or serious trauma', 'Surgical intervention', 'High fevers in the last year', \n",
        "                'Frequency of alcohol consumption_every day','Frequency of alcohol consumption_once a week',\n",
        "                'Frequency of alcohol consumption_several times a day','Frequency of alcohol consumption_several times a week', 'Frequency of alcohol consumption_hardly ever or never', 'Smoking habit']\n",
        "target = 'Diagnosis'"
      ],
      "metadata": {
        "id": "8GEzTPEWj18J"
      },
      "execution_count": 17,
      "outputs": []
    },
    {
      "cell_type": "code",
      "source": [
        "# create a list to store the results\n",
        "results = []\n",
        "\n",
        "# iterate over each categorical feature\n",
        "for col in cat_features:\n",
        "    # create a contingency table of the counts of each category in the\n",
        "    # feature and the target variable\n",
        "    table = pd.crosstab(df[col], df['Diagnosis'])\n",
        "    # compute the chi-square statistic and p-value\n",
        "    stat, p, dof, expected = chi2_contingency(table)\n",
        "    # store the results in a dictionary\n",
        "    result = {'feature': col, 'chi2': stat, 'p': p}\n",
        "    # append the result to the list\n",
        "    results.append(result)"
      ],
      "metadata": {
        "id": "uVHI4sL-3YWM"
      },
      "execution_count": 18,
      "outputs": []
    },
    {
      "cell_type": "code",
      "source": [
        "# print the results\n",
        "for result in results:\n",
        "    print(f\"Feature: {result['feature']}, chi2: {result['chi2']}, p: {result['p']}\")"
      ],
      "metadata": {
        "colab": {
          "base_uri": "https://localhost:8080/"
        },
        "id": "34Ret-h13YRA",
        "outputId": "7a323a78-4088-4573-a5ae-02c3b9e9b35f"
      },
      "execution_count": 19,
      "outputs": [
        {
          "output_type": "stream",
          "name": "stdout",
          "text": [
            "Feature: Season, chi2: 4.161335612948516, p: 0.24456154469665597\n",
            "Feature: Childish diseases, chi2: 0.0, p: 1.0\n",
            "Feature: Accident or serious trauma, chi2: 1.2176861963793788, p: 0.2698152153045356\n",
            "Feature: Surgical intervention, chi2: 0.054718857239865706, p: 0.8150466035263968\n",
            "Feature: High fevers in the last year, chi2: 1.545214045214045, p: 0.4618075548579861\n",
            "Feature: Frequency of alcohol consumption_every day, chi2: 0.0, p: 1.0\n",
            "Feature: Frequency of alcohol consumption_once a week, chi2: 0.26765129224145634, p: 0.6049116744718042\n",
            "Feature: Frequency of alcohol consumption_several times a day, chi2: 0.0, p: 1.0\n",
            "Feature: Frequency of alcohol consumption_several times a week, chi2: 0.9158347608640007, p: 0.3385710100148502\n",
            "Feature: Frequency of alcohol consumption_hardly ever or never, chi2: 2.0872790404040393, p: 0.14853040741591483\n",
            "Feature: Smoking habit, chi2: 0.21527385657820433, p: 0.8979535587878946\n"
          ]
        }
      ]
    },
    {
      "cell_type": "code",
      "source": [
        "# Split the data into input features and target variable\n",
        "Y = df['Diagnosis']\n",
        "X = df.drop(columns = ['Diagnosis'])"
      ],
      "metadata": {
        "id": "riGa0LgMTOxA"
      },
      "execution_count": 17,
      "outputs": []
    },
    {
      "cell_type": "markdown",
      "source": [
        "Apply Boruta Algorithm"
      ],
      "metadata": {
        "id": "HlG7TwC7Iazz"
      }
    },
    {
      "cell_type": "code",
      "source": [
        "# Define the classifier\n",
        "clf = RandomForestClassifier(n_estimators=100, random_state=0)"
      ],
      "metadata": {
        "id": "9nqbCl4YIdP0"
      },
      "execution_count": 18,
      "outputs": []
    },
    {
      "cell_type": "code",
      "source": [
        "# Apply the Boruta algorithm to select the important features\n",
        "boruta = BorutaPy(clf, n_estimators='auto', verbose=2, random_state=0,max_iter=10)\n",
        "boruta.fit(np.array(X), np.array(Y))"
      ],
      "metadata": {
        "colab": {
          "base_uri": "https://localhost:8080/"
        },
        "id": "euy-C99fIgqd",
        "outputId": "3b5241ab-b555-44a0-e158-e9dd3187a6f2"
      },
      "execution_count": 19,
      "outputs": [
        {
          "output_type": "stream",
          "name": "stdout",
          "text": [
            "Iteration: \t1 / 10\n",
            "Confirmed: \t0\n",
            "Tentative: \t13\n",
            "Rejected: \t0\n",
            "Iteration: \t2 / 10\n",
            "Confirmed: \t0\n",
            "Tentative: \t13\n",
            "Rejected: \t0\n",
            "Iteration: \t3 / 10\n",
            "Confirmed: \t0\n",
            "Tentative: \t13\n",
            "Rejected: \t0\n",
            "Iteration: \t4 / 10\n",
            "Confirmed: \t0\n",
            "Tentative: \t13\n",
            "Rejected: \t0\n",
            "Iteration: \t5 / 10\n",
            "Confirmed: \t0\n",
            "Tentative: \t13\n",
            "Rejected: \t0\n",
            "Iteration: \t6 / 10\n",
            "Confirmed: \t0\n",
            "Tentative: \t13\n",
            "Rejected: \t0\n",
            "Iteration: \t7 / 10\n",
            "Confirmed: \t0\n",
            "Tentative: \t13\n",
            "Rejected: \t0\n",
            "Iteration: \t8 / 10\n",
            "Confirmed: \t0\n",
            "Tentative: \t2\n",
            "Rejected: \t11\n",
            "Iteration: \t9 / 10\n",
            "Confirmed: \t0\n",
            "Tentative: \t2\n",
            "Rejected: \t11\n",
            "\n",
            "\n",
            "BorutaPy finished running.\n",
            "\n",
            "Iteration: \t10 / 10\n",
            "Confirmed: \t0\n",
            "Tentative: \t1\n",
            "Rejected: \t11\n"
          ]
        },
        {
          "output_type": "execute_result",
          "data": {
            "text/plain": [
              "BorutaPy(estimator=RandomForestClassifier(n_estimators=20,\n",
              "                                          random_state=RandomState(MT19937) at 0x7F65EEA5E640),\n",
              "         max_iter=10, n_estimators='auto',\n",
              "         random_state=RandomState(MT19937) at 0x7F65EEA5E640, verbose=2)"
            ]
          },
          "metadata": {},
          "execution_count": 19
        }
      ]
    },
    {
      "cell_type": "markdown",
      "source": [
        "Balance the otput class"
      ],
      "metadata": {
        "id": "304vG2roLhuS"
      }
    },
    {
      "cell_type": "code",
      "source": [
        "from imblearn.over_sampling import SMOTE"
      ],
      "metadata": {
        "id": "4OTh2DoUcG0L"
      },
      "execution_count": 20,
      "outputs": []
    },
    {
      "cell_type": "code",
      "source": [
        "# Oversample the minority class\n",
        "smote = SMOTE()\n",
        "X_resampled, y_resampled = smote.fit_resample(X, Y)\n"
      ],
      "metadata": {
        "id": "5FHbNExWTOpv"
      },
      "execution_count": 21,
      "outputs": []
    },
    {
      "cell_type": "code",
      "source": [
        "y_resampled.value_counts()"
      ],
      "metadata": {
        "colab": {
          "base_uri": "https://localhost:8080/"
        },
        "id": "iynkiZQBcB1J",
        "outputId": "f4c48f86-da45-4481-ff42-9436fd02b482"
      },
      "execution_count": 22,
      "outputs": [
        {
          "output_type": "execute_result",
          "data": {
            "text/plain": [
              "Normal     88\n",
              "Altered    88\n",
              "Name: Diagnosis, dtype: int64"
            ]
          },
          "metadata": {},
          "execution_count": 22
        }
      ]
    },
    {
      "cell_type": "code",
      "source": [
        "# Create the Tomek links object\n",
        "from imblearn.under_sampling import TomekLinks\n",
        "tomek = TomekLinks()"
      ],
      "metadata": {
        "id": "6XamInl_cGwT"
      },
      "execution_count": 23,
      "outputs": []
    },
    {
      "cell_type": "code",
      "source": [
        "# Undersample the majority class\n",
        "X_resampled, y_resampled = tomek.fit_resample(X_resampled, y_resampled)"
      ],
      "metadata": {
        "id": "Nw-hijXlcGsb"
      },
      "execution_count": 24,
      "outputs": []
    },
    {
      "cell_type": "code",
      "source": [
        "y_resampled.value_counts()"
      ],
      "metadata": {
        "id": "Od5UI8HOcGpN",
        "colab": {
          "base_uri": "https://localhost:8080/"
        },
        "outputId": "2aa0d8b6-df15-43a9-8247-454ece4a13e8"
      },
      "execution_count": 25,
      "outputs": [
        {
          "output_type": "execute_result",
          "data": {
            "text/plain": [
              "Altered    88\n",
              "Normal     87\n",
              "Name: Diagnosis, dtype: int64"
            ]
          },
          "metadata": {},
          "execution_count": 25
        }
      ]
    },
    {
      "cell_type": "code",
      "source": [
        "print(len(y_resampled) , len(X_resampled))"
      ],
      "metadata": {
        "id": "a5o96e5-cGlb",
        "colab": {
          "base_uri": "https://localhost:8080/"
        },
        "outputId": "1a90dd22-9487-4328-f351-362211ff3f36"
      },
      "execution_count": 26,
      "outputs": [
        {
          "output_type": "stream",
          "name": "stdout",
          "text": [
            "175 175\n"
          ]
        }
      ]
    },
    {
      "cell_type": "code",
      "source": [
        "sns.displot(y_resampled,palette=\"ch:.25\")"
      ],
      "metadata": {
        "id": "MxFCYq5HXVAv"
      },
      "execution_count": null,
      "outputs": []
    },
    {
      "cell_type": "code",
      "source": [
        "plt.figure(figsize=(10,10),dpi = 3000)\n",
        "after = sns.catplot(x = y_resampled, data= y_resampled, kind=\"count\", palette=\"ch:.25\")\n",
        "plt.title('After SMOTE')\n",
        "before.savefig('after')"
      ],
      "metadata": {
        "id": "OLFurg4cUXv7"
      },
      "execution_count": null,
      "outputs": []
    },
    {
      "cell_type": "code",
      "source": [
        "from sklearn.model_selection import train_test_split\n",
        "from sklearn.metrics import f1_score,confusion_matrix\n",
        "from sklearn.linear_model import LogisticRegression\n",
        "from sklearn.metrics import classification_report, confusion_matrix\n",
        "from sklearn import metrics"
      ],
      "metadata": {
        "id": "_AKhxlVfcGh7"
      },
      "execution_count": 35,
      "outputs": []
    },
    {
      "cell_type": "code",
      "source": [
        "X_train,X_test,y_train,y_test = train_test_split(X_resampled,y_resampled,test_size=0.20,random_state=0,stratify=y_resampled)"
      ],
      "metadata": {
        "id": "_WdEVtxicGeb"
      },
      "execution_count": 36,
      "outputs": []
    },
    {
      "cell_type": "code",
      "source": [
        "print(\"X_train = \",len(X_train), \";\", \"X_test =\", len(X_test), \";\", \"y_train =\",len(y_train),\";\", \"y_test = \", len(y_test))"
      ],
      "metadata": {
        "id": "lF5gnqU7cGbL",
        "colab": {
          "base_uri": "https://localhost:8080/"
        },
        "outputId": "3cfe903f-45b2-4549-8ac6-88bc9c2c4f48"
      },
      "execution_count": 37,
      "outputs": [
        {
          "output_type": "stream",
          "name": "stdout",
          "text": [
            "X_train =  140 ; X_test = 35 ; y_train = 140 ; y_test =  35\n"
          ]
        }
      ]
    },
    {
      "cell_type": "markdown",
      "source": [
        "**FIT LOGISTIC REGRESSION**"
      ],
      "metadata": {
        "id": "SgvM9AiL8YG2"
      }
    },
    {
      "cell_type": "code",
      "source": [
        "np.random.seed(31415) \n",
        "logreg = LogisticRegression()\n",
        "logreg.fit(X_train,y_train)"
      ],
      "metadata": {
        "colab": {
          "base_uri": "https://localhost:8080/"
        },
        "id": "RtndKsPE9eWb",
        "outputId": "a30c25c8-957f-409d-9765-491b5994e352"
      },
      "execution_count": 43,
      "outputs": [
        {
          "output_type": "execute_result",
          "data": {
            "text/plain": [
              "LogisticRegression()"
            ]
          },
          "metadata": {},
          "execution_count": 43
        }
      ]
    },
    {
      "cell_type": "code",
      "source": [
        "y_pred = logreg.predict(X_test)\n",
        "confusion_matrix(y_test,y_pred)"
      ],
      "metadata": {
        "colab": {
          "base_uri": "https://localhost:8080/"
        },
        "id": "KAo0czG19jfK",
        "outputId": "91d25125-d744-45ae-f450-7571b8aa9644"
      },
      "execution_count": 44,
      "outputs": [
        {
          "output_type": "execute_result",
          "data": {
            "text/plain": [
              "array([[16,  2],\n",
              "       [ 3, 14]])"
            ]
          },
          "metadata": {},
          "execution_count": 44
        }
      ]
    },
    {
      "cell_type": "code",
      "source": [
        "f1_score(y_test,y_pred, pos_label=\"Normal\")"
      ],
      "metadata": {
        "colab": {
          "base_uri": "https://localhost:8080/"
        },
        "id": "lRXa0Sew9psK",
        "outputId": "51a212d1-b67c-4d20-a535-37fc385b48c6"
      },
      "execution_count": 63,
      "outputs": [
        {
          "output_type": "execute_result",
          "data": {
            "text/plain": [
              "0.8484848484848485"
            ]
          },
          "metadata": {},
          "execution_count": 63
        }
      ]
    },
    {
      "cell_type": "code",
      "source": [
        "print(classification_report(y_test, logreg.predict(X_test)))"
      ],
      "metadata": {
        "colab": {
          "base_uri": "https://localhost:8080/"
        },
        "id": "mCStiAVM9Dcz",
        "outputId": "f63661ed-f2c1-456b-843e-cf1516510966"
      },
      "execution_count": 46,
      "outputs": [
        {
          "output_type": "stream",
          "name": "stdout",
          "text": [
            "              precision    recall  f1-score   support\n",
            "\n",
            "     Altered       0.84      0.89      0.86        18\n",
            "      Normal       0.88      0.82      0.85        17\n",
            "\n",
            "    accuracy                           0.86        35\n",
            "   macro avg       0.86      0.86      0.86        35\n",
            "weighted avg       0.86      0.86      0.86        35\n",
            "\n"
          ]
        }
      ]
    },
    {
      "cell_type": "code",
      "source": [
        "metrics.plot_roc_curve(logreg, X_test, y_test)\n",
        "plt.show()"
      ],
      "metadata": {
        "colab": {
          "base_uri": "https://localhost:8080/",
          "height": 334
        },
        "id": "Vh730AZm-OBp",
        "outputId": "3ad270ab-a038-4c7c-cf62-def1adfaa57e"
      },
      "execution_count": 47,
      "outputs": [
        {
          "output_type": "stream",
          "name": "stderr",
          "text": [
            "/usr/local/lib/python3.8/dist-packages/sklearn/utils/deprecation.py:87: FutureWarning: Function plot_roc_curve is deprecated; Function :func:`plot_roc_curve` is deprecated in 1.0 and will be removed in 1.2. Use one of the class methods: :meth:`sklearn.metric.RocCurveDisplay.from_predictions` or :meth:`sklearn.metric.RocCurveDisplay.from_estimator`.\n",
            "  warnings.warn(msg, category=FutureWarning)\n"
          ]
        },
        {
          "output_type": "display_data",
          "data": {
            "text/plain": [
              "<Figure size 432x288 with 1 Axes>"
            ],
            "image/png": "[encoded data removed]"
          },
          "metadata": {
            "needs_background": "light"
          }
        }
      ]
    },
    {
      "cell_type": "code",
      "source": [],
      "metadata": {
        "id": "5VR6GXhS-N91"
      },
      "execution_count": null,
      "outputs": []
    },
    {
      "cell_type": "markdown",
      "source": [
        "**FIT SUPPORT VECTOR MACHINE**"
      ],
      "metadata": {
        "id": "B_FmFsEx-uAj"
      }
    },
    {
      "cell_type": "code",
      "source": [
        "from sklearn import svm\n",
        "from sklearn import metrics"
      ],
      "metadata": {
        "id": "8aTA_h8w-sWJ"
      },
      "execution_count": 48,
      "outputs": []
    },
    {
      "cell_type": "code",
      "source": [
        "svm_model = svm.SVC(kernel='linear') # Linear Kernel"
      ],
      "metadata": {
        "id": "WId36mrv-sWJ"
      },
      "execution_count": 49,
      "outputs": []
    },
    {
      "cell_type": "code",
      "source": [
        "np.random.seed(31415) \n",
        "svm_model.fit(X_train, y_train)"
      ],
      "metadata": {
        "colab": {
          "base_uri": "https://localhost:8080/"
        },
        "outputId": "242a5be8-7e79-4dab-e689-01e4cf66170f",
        "id": "4j44U73E-sWJ"
      },
      "execution_count": 50,
      "outputs": [
        {
          "output_type": "execute_result",
          "data": {
            "text/plain": [
              "SVC(kernel='linear')"
            ]
          },
          "metadata": {},
          "execution_count": 50
        }
      ]
    },
    {
      "cell_type": "code",
      "source": [
        "y_pred_svm = svm_model.predict(X_test)"
      ],
      "metadata": {
        "id": "5uo2obUV-sWK"
      },
      "execution_count": 51,
      "outputs": []
    },
    {
      "cell_type": "code",
      "source": [
        "confusion_matrix(y_test,y_pred_svm)"
      ],
      "metadata": {
        "colab": {
          "base_uri": "https://localhost:8080/"
        },
        "id": "xHombMbWBrfx",
        "outputId": "8ff80915-4d3d-4ddc-83a3-1617b497e2f2"
      },
      "execution_count": 52,
      "outputs": [
        {
          "output_type": "execute_result",
          "data": {
            "text/plain": [
              "array([[16,  2],\n",
              "       [ 2, 15]])"
            ]
          },
          "metadata": {},
          "execution_count": 52
        }
      ]
    },
    {
      "cell_type": "code",
      "source": [
        "print(classification_report(y_test, svm_model.predict(X_test)))"
      ],
      "metadata": {
        "colab": {
          "base_uri": "https://localhost:8080/"
        },
        "outputId": "dad21759-ef9a-4a56-ace4-d756ff4d6147",
        "id": "ZixCRpl0-sWK"
      },
      "execution_count": 62,
      "outputs": [
        {
          "output_type": "stream",
          "name": "stdout",
          "text": [
            "              precision    recall  f1-score   support\n",
            "\n",
            "     Altered       0.89      0.89      0.89        18\n",
            "      Normal       0.88      0.88      0.88        17\n",
            "\n",
            "    accuracy                           0.89        35\n",
            "   macro avg       0.89      0.89      0.89        35\n",
            "weighted avg       0.89      0.89      0.89        35\n",
            "\n"
          ]
        }
      ]
    },
    {
      "cell_type": "code",
      "source": [
        "metrics.plot_roc_curve(svm_model, X_test, y_test)\n",
        "plt.show()"
      ],
      "metadata": {
        "colab": {
          "base_uri": "https://localhost:8080/",
          "height": 334
        },
        "id": "V9XGWXn_-N5W",
        "outputId": "bf6d7cdd-ca09-4e6d-cd2a-76dbfeac824f"
      },
      "execution_count": 55,
      "outputs": [
        {
          "output_type": "stream",
          "name": "stderr",
          "text": [
            "/usr/local/lib/python3.8/dist-packages/sklearn/utils/deprecation.py:87: FutureWarning: Function plot_roc_curve is deprecated; Function :func:`plot_roc_curve` is deprecated in 1.0 and will be removed in 1.2. Use one of the class methods: :meth:`sklearn.metric.RocCurveDisplay.from_predictions` or :meth:`sklearn.metric.RocCurveDisplay.from_estimator`.\n",
            "  warnings.warn(msg, category=FutureWarning)\n"
          ]
        },
        {
          "output_type": "display_data",
          "data": {
            "text/plain": [
              "<Figure size 432x288 with 1 Axes>"
            ],
            "image/png": "[encoded data removed]"
          },
          "metadata": {
            "needs_background": "light"
          }
        }
      ]
    },
    {
      "cell_type": "markdown",
      "source": [
        "**FITTING NAIVE BAYES MODEL**"
      ],
      "metadata": {
        "id": "O0JKGwzfCgu0"
      }
    },
    {
      "cell_type": "code",
      "source": [
        "# Training the Naive Bayes model on the Training set\n",
        "from sklearn.naive_bayes import GaussianNB\n",
        "np.random.seed(31415) \n",
        "nb_model = GaussianNB()\n",
        "nb_model.fit(X_train, y_train)"
      ],
      "metadata": {
        "colab": {
          "base_uri": "https://localhost:8080/"
        },
        "id": "yurXSxMWAp0a",
        "outputId": "8528d461-1907-426a-aff4-1950d90a27ee"
      },
      "execution_count": 57,
      "outputs": [
        {
          "output_type": "execute_result",
          "data": {
            "text/plain": [
              "GaussianNB()"
            ]
          },
          "metadata": {},
          "execution_count": 57
        }
      ]
    },
    {
      "cell_type": "code",
      "source": [
        "# Predicting the Test set results\n",
        "y_pred_nb = nb_model.predict(X_test)"
      ],
      "metadata": {
        "id": "KDzPwPuAApuE"
      },
      "execution_count": 58,
      "outputs": []
    },
    {
      "cell_type": "code",
      "source": [
        "confusion_matrix(y_test, y_pred_nb)"
      ],
      "metadata": {
        "id": "bPOtlCg_Appd",
        "colab": {
          "base_uri": "https://localhost:8080/"
        },
        "outputId": "b4d15813-1732-4c68-8ccc-e975da9ef1a5"
      },
      "execution_count": 59,
      "outputs": [
        {
          "output_type": "execute_result",
          "data": {
            "text/plain": [
              "array([[18,  0],\n",
              "       [12,  5]])"
            ]
          },
          "metadata": {},
          "execution_count": 59
        }
      ]
    },
    {
      "cell_type": "code",
      "source": [
        "print(classification_report(y_test, nb_model.predict(X_test)))"
      ],
      "metadata": {
        "colab": {
          "base_uri": "https://localhost:8080/"
        },
        "id": "_EcjNWvX5CeT",
        "outputId": "f8dc68d1-cd6d-42d4-d51d-80d34ac4d734"
      },
      "execution_count": 60,
      "outputs": [
        {
          "output_type": "stream",
          "name": "stdout",
          "text": [
            "              precision    recall  f1-score   support\n",
            "\n",
            "     Altered       0.60      1.00      0.75        18\n",
            "      Normal       1.00      0.29      0.45        17\n",
            "\n",
            "    accuracy                           0.66        35\n",
            "   macro avg       0.80      0.65      0.60        35\n",
            "weighted avg       0.79      0.66      0.61        35\n",
            "\n"
          ]
        }
      ]
    },
    {
      "cell_type": "code",
      "source": [
        "metrics.plot_roc_curve(nb_model, X_test, y_test)\n",
        "plt.show()"
      ],
      "metadata": {
        "id": "GqMtJ4bJ5CWQ",
        "colab": {
          "base_uri": "https://localhost:8080/",
          "height": 334
        },
        "outputId": "c22c6b2e-7e33-4966-dc56-6a5abce17e5e"
      },
      "execution_count": 61,
      "outputs": [
        {
          "output_type": "stream",
          "name": "stderr",
          "text": [
            "/usr/local/lib/python3.8/dist-packages/sklearn/utils/deprecation.py:87: FutureWarning: Function plot_roc_curve is deprecated; Function :func:`plot_roc_curve` is deprecated in 1.0 and will be removed in 1.2. Use one of the class methods: :meth:`sklearn.metric.RocCurveDisplay.from_predictions` or :meth:`sklearn.metric.RocCurveDisplay.from_estimator`.\n",
            "  warnings.warn(msg, category=FutureWarning)\n"
          ]
        },
        {
          "output_type": "display_data",
          "data": {
            "text/plain": [
              "<Figure size 432x288 with 1 Axes>"
            ],
            "image/png": "[encoded data removed]"
          },
          "metadata": {
            "needs_background": "light"
          }
        }
      ]
    }
  ]
}